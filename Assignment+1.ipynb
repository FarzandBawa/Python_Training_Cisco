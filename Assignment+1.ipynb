{
 "cells": [
  {
   "cell_type": "markdown",
   "metadata": {},
   "source": [
    "### 1. Write a Python program to count the number of even and odd numbers from a series of numbers.\n",
    "* Sample numbers : numbers = (1, 2, 3, 4, 5, 6, 7, 8, 9) ##### Expected Output :\n",
    "* Number of even numbers : 4\n",
    "* Number of odd numbers : 5"
   ]
  },
  {
   "cell_type": "markdown",
   "metadata": {},
   "source": [
    "### 2.  Write a Python program that prints all the numbers from 0 to 6 except 3 and 6.\n",
    "* Expected Output : 0 1 2 4 5"
   ]
  },
  {
   "cell_type": "markdown",
   "metadata": {},
   "source": [
    "### 3. Write a Python program to get the Fibonacci series between 0 to 50.\n",
    "* Note : The Fibonacci Sequence is the series of numbers :\n",
    "* 0,1, 1, 2, 3, 5, 8, 13, 21, ....\n",
    "* Every next number is found by adding up the two numbers before it.\n",
    "* Expected Output : 1 1 2 3 5 8 13 21 34"
   ]
  },
  {
   "cell_type": "markdown",
   "metadata": {},
   "source": [
    "### 4. Write a Python program to find numbers between 100 and 400 (both included) where each digit of a number is an even number. The numbers obtained should be printed in a comma-separated sequence"
   ]
  },
  {
   "cell_type": "markdown",
   "metadata": {},
   "source": [
    "### 5. Write a Python program to construct the following pattern, using a nested loop number.\n",
    "* 1 22 333 4444 55555 666666 7777777 88888888 999999999"
   ]
  }
 ],
 "metadata": {
  "kernelspec": {
   "display_name": "Python 3",
   "language": "python",
   "name": "python3"
  },
  "language_info": {
   "codemirror_mode": {
    "name": "ipython",
    "version": 3
   },
   "file_extension": ".py",
   "mimetype": "text/x-python",
   "name": "python",
   "nbconvert_exporter": "python",
   "pygments_lexer": "ipython3",
   "version": "3.6.3"
  }
 },
 "nbformat": 4,
 "nbformat_minor": 2
}
